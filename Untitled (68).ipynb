{
 "cells": [
  {
   "cell_type": "markdown",
   "id": "f7bcadbe-cfbe-44e8-9536-4512ab4b6534",
   "metadata": {},
   "source": [
    "Assignment Questions 7 "
   ]
  },
  {
   "cell_type": "code",
   "execution_count": 1,
   "id": "894e2e7d-9297-47b2-8477-5f37e0f34ade",
   "metadata": {},
   "outputs": [],
   "source": [
    "#Ans 1"
   ]
  },
  {
   "cell_type": "code",
   "execution_count": 11,
   "id": "218c3e46-c0a3-4435-b9f6-ca471f765247",
   "metadata": {},
   "outputs": [
    {
     "name": "stdout",
     "output_type": "stream",
     "text": [
      "True\n"
     ]
    }
   ],
   "source": [
    "def isomorphic_strings(s, t):\n",
    "    if len(s) != len(t):\n",
    "        return False\n",
    "\n",
    "    s_map = {}\n",
    "    t_map = {}\n",
    "\n",
    "    for i in range(len(s)):\n",
    "        if s[i] not in s_map and t[i] not in t_map:\n",
    "            s_map[s[i]] = t[i]\n",
    "            t_map[t[i]] = s[i]\n",
    "        elif s[i] in s_map and s_map[s[i]] != t[i] or t[i] in t_map and t_map[t[i]] != s[i]:\n",
    "            return False\n",
    "\n",
    "    return True\n",
    "\n",
    "# Example usage:\n",
    "s = \"egg\"\n",
    "t = \"add\"\n",
    "print(isomorphic_strings(s, t))  \n"
   ]
  },
  {
   "cell_type": "code",
   "execution_count": 12,
   "id": "498c262b-253e-4c82-b586-2abaf58e651c",
   "metadata": {},
   "outputs": [],
   "source": [
    "#Ans 2"
   ]
  },
  {
   "cell_type": "code",
   "execution_count": 26,
   "id": "e7e1b679-e236-4973-ae20-0d6aed6d27c8",
   "metadata": {},
   "outputs": [
    {
     "name": "stdout",
     "output_type": "stream",
     "text": [
      "True\n"
     ]
    }
   ],
   "source": [
    "def is_strobogrammatic(num):\n",
    "    strobogrammatic_map = {\n",
    "        \"0\": \"0\",\n",
    "        \"1\": \"1\",\n",
    "        \"6\": \"9\",\n",
    "        \"8\": \"8\",\n",
    "        \"9\": \"6\"\n",
    "    }\n",
    "\n",
    "    left = 0\n",
    "    right = len(num) - 1\n",
    "\n",
    "    while left <= right:\n",
    "        if num[left] not in strobogrammatic_map or strobogrammatic_map[num[left]] != num[right]:\n",
    "            return False\n",
    "\n",
    "        left += 1\n",
    "        right -= 1\n",
    "\n",
    "    return True\n",
    "\n",
    "# Example usage:\n",
    "num = \"69\"\n",
    "print(is_strobogrammatic(num))  \n"
   ]
  },
  {
   "cell_type": "code",
   "execution_count": 27,
   "id": "24f72d51-9190-4abc-b7c2-04810159cfec",
   "metadata": {},
   "outputs": [],
   "source": [
    "#Ans 3"
   ]
  },
  {
   "cell_type": "code",
   "execution_count": 45,
   "id": "730f2d75-da85-4ab7-a20e-2e94145342e6",
   "metadata": {},
   "outputs": [
    {
     "name": "stdout",
     "output_type": "stream",
     "text": [
      "134\n"
     ]
    }
   ],
   "source": [
    "def addStrings(num1, num2):\n",
    "    i = len(num1) - 1\n",
    "    j = len(num2) - 1\n",
    "    carry = 0\n",
    "    result = \"\"\n",
    "\n",
    "    while i >= 0 or j >= 0 or carry != 0:\n",
    "        digit1 = int(num1[i]) if i >= 0 else 0\n",
    "        digit2 = int(num2[j]) if j >= 0 else 0\n",
    "        digit_sum = digit1 + digit2 + carry\n",
    "        carry = digit_sum // 10\n",
    "        sum_digit = digit_sum % 10\n",
    "        result = str(sum_digit) + result\n",
    "        i -= 1\n",
    "        j -= 1\n",
    "\n",
    "    return result\n",
    "\n",
    "# Example usage:\n",
    "num1 = \"11\"\n",
    "num2 = \"123\"\n",
    "print(addStrings(num1, num2))  \n"
   ]
  },
  {
   "cell_type": "code",
   "execution_count": 46,
   "id": "4741da34-8362-4b67-be15-03036d39b9cb",
   "metadata": {},
   "outputs": [],
   "source": [
    "#Ans 4"
   ]
  },
  {
   "cell_type": "code",
   "execution_count": 63,
   "id": "3c50da34-498f-4a54-9f18-56c2dfb7f277",
   "metadata": {},
   "outputs": [
    {
     "name": "stdout",
     "output_type": "stream",
     "text": [
      "s'teL ekat edoCteeL tsetnoc\n"
     ]
    }
   ],
   "source": [
    "def reverseWords(s):\n",
    "    return ' '.join(word[::-1] for word in s.split())\n",
    "\n",
    "# Example usage:\n",
    "s = \"Let's take LeetCode contest\"\n",
    "print(reverseWords(s))  \n"
   ]
  },
  {
   "cell_type": "code",
   "execution_count": 64,
   "id": "ed395760-8ab0-4bd6-861f-cbeb32e1dc62",
   "metadata": {},
   "outputs": [],
   "source": [
    "#Ans 5"
   ]
  },
  {
   "cell_type": "code",
   "execution_count": 80,
   "id": "75cfd359-4970-4744-b64d-301470f563da",
   "metadata": {},
   "outputs": [
    {
     "name": "stdout",
     "output_type": "stream",
     "text": [
      "bacdfeg\n"
     ]
    }
   ],
   "source": [
    "def reverseStr(s, k):\n",
    "    s = list(s)\n",
    "    n = len(s)\n",
    "\n",
    "    for i in range(0, n, 2 * k):\n",
    "        left = i\n",
    "        right = min(i + k - 1, n - 1)\n",
    "\n",
    "        while left < right:\n",
    "            s[left], s[right] = s[right], s[left]\n",
    "            left += 1\n",
    "            right -= 1\n",
    "\n",
    "    return ''.join(s)\n",
    "\n",
    "# Example usage:\n",
    "s = \"abcdefg\"\n",
    "k = 2\n",
    "print(reverseStr(s, k))  \n"
   ]
  },
  {
   "cell_type": "code",
   "execution_count": 81,
   "id": "39ed930f-69d2-4779-8ded-c7bf10615dcc",
   "metadata": {},
   "outputs": [],
   "source": [
    "#Ans 6"
   ]
  },
  {
   "cell_type": "code",
   "execution_count": 87,
   "id": "11dd22f5-9fb4-47d8-a266-fceb943c8f75",
   "metadata": {},
   "outputs": [
    {
     "name": "stdout",
     "output_type": "stream",
     "text": [
      "True\n"
     ]
    }
   ],
   "source": [
    "def rotateString(s, goal):\n",
    "    s2 = s + s\n",
    "\n",
    "    if goal in s2:\n",
    "        return True\n",
    "    else:\n",
    "        return False\n",
    "\n",
    "# Example usage:\n",
    "s = \"abcde\"\n",
    "goal = \"cdeab\"\n",
    "print(rotateString(s, goal))  \n"
   ]
  },
  {
   "cell_type": "code",
   "execution_count": 88,
   "id": "64c3f0d1-4288-4767-a115-bfa6f77c3fa9",
   "metadata": {},
   "outputs": [],
   "source": [
    "#Ans 7"
   ]
  },
  {
   "cell_type": "code",
   "execution_count": 102,
   "id": "95a32541-dd64-4632-b0bb-16ef6b7fd53f",
   "metadata": {},
   "outputs": [
    {
     "name": "stdout",
     "output_type": "stream",
     "text": [
      "True\n"
     ]
    }
   ],
   "source": [
    "def backspaceCompare(s, t):\n",
    "    def process_string(string):\n",
    "        stack = []\n",
    "        for char in string:\n",
    "            if char != '#':\n",
    "                stack.append(char)\n",
    "            elif stack:\n",
    "                stack.pop()\n",
    "        return ''.join(stack)\n",
    "\n",
    "    processed_s = process_string(s)\n",
    "    processed_t = process_string(t)\n",
    "\n",
    "    return processed_s == processed_t\n",
    "\n",
    "# Example usage:\n",
    "s = \"ab#c\"\n",
    "t = \"ad#c\"\n",
    "print(backspaceCompare(s, t))  \n"
   ]
  },
  {
   "cell_type": "code",
   "execution_count": 126,
   "id": "db9125b4-d325-407f-8015-54b7d872d518",
   "metadata": {},
   "outputs": [
    {
     "name": "stdout",
     "output_type": "stream",
     "text": [
      "True\n"
     ]
    }
   ],
   "source": [
    "def checkStraightLine(coordinates):\n",
    "    if len(coordinates) < 3:\n",
    "        return True\n",
    "\n",
    "    x1, y1 = coordinates[0]\n",
    "    x2, y2 = coordinates[1]\n",
    "    slope = (y2 - y1) / (x2 - x1)\n",
    "\n",
    "    for i in range(2, len(coordinates)):\n",
    "        x, y = coordinates[i]\n",
    "        current_slope = (y - y2) / (x - x2)\n",
    "        if current_slope != slope:\n",
    "            return False\n",
    "\n",
    "    return True\n",
    "\n",
    "\n",
    "\n",
    "coordinates = [[1,2],[2,3],[3,4],[4,5],[5,6],[6,7]]\n",
    "print(checkStraightLine(coordinates))\n",
    "\n"
   ]
  },
  {
   "cell_type": "code",
   "execution_count": null,
   "id": "93d25f71-4411-47bb-9a63-cd9c3fbb83e2",
   "metadata": {},
   "outputs": [],
   "source": []
  }
 ],
 "metadata": {
  "kernelspec": {
   "display_name": "Python 3 (ipykernel)",
   "language": "python",
   "name": "python3"
  },
  "language_info": {
   "codemirror_mode": {
    "name": "ipython",
    "version": 3
   },
   "file_extension": ".py",
   "mimetype": "text/x-python",
   "name": "python",
   "nbconvert_exporter": "python",
   "pygments_lexer": "ipython3",
   "version": "3.10.8"
  }
 },
 "nbformat": 4,
 "nbformat_minor": 5
}
